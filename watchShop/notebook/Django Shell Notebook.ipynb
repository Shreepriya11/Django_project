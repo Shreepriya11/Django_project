{
 "cells": [
  {
   "cell_type": "markdown",
   "id": "1c8369e2",
   "metadata": {},
   "source": [
    "# Django Async setup - Notebook"
   ]
  },
  {
   "cell_type": "code",
   "execution_count": 2,
   "id": "354c93a7",
   "metadata": {},
   "outputs": [],
   "source": [
    "import django\n",
    "import os\n",
    "os.environ.setdefault('DJANGO_SETTINGS_MODULE','rest.settings')\n",
    "os.environ['DJANGO_ALLOW_ASYNC_UNSAFE']='true'\n",
    "django.setup()"
   ]
  },
  {
   "cell_type": "markdown",
   "id": "bb97860d",
   "metadata": {},
   "source": [
    "# Importing model from Django"
   ]
  },
  {
   "cell_type": "code",
   "execution_count": 11,
   "id": "0f1a9f2b",
   "metadata": {},
   "outputs": [],
   "source": [
    "from homepage.models import WatchesUploads"
   ]
  },
  {
   "cell_type": "markdown",
   "id": "debdfe52",
   "metadata": {},
   "source": [
    "# 1. Get all the objects and modifying it"
   ]
  },
  {
   "cell_type": "code",
   "execution_count": 12,
   "id": "ac6992f8",
   "metadata": {},
   "outputs": [],
   "source": [
    "items=WatchesUploads.objects.all()"
   ]
  },
  {
   "cell_type": "code",
   "execution_count": 15,
   "id": "143861c5",
   "metadata": {},
   "outputs": [
    {
     "data": {
      "text/plain": [
       "django.db.models.query.QuerySet"
      ]
     },
     "execution_count": 15,
     "metadata": {},
     "output_type": "execute_result"
    }
   ],
   "source": [
    "type(items)"
   ]
  },
  {
   "cell_type": "code",
   "execution_count": 18,
   "id": "48ad9655",
   "metadata": {},
   "outputs": [
    {
     "name": "stdout",
     "output_type": "stream",
     "text": [
      "Casio P-1 7600.0 15\n",
      "G-Shock 800.0 1\n",
      "Titan 8900.0 1\n",
      "Fossil 12900.0 1\n"
     ]
    }
   ],
   "source": [
    "for item in items:\n",
    "    print(item.name, item.price, item.count)"
   ]
  },
  {
   "cell_type": "code",
   "execution_count": 21,
   "id": "f137d456",
   "metadata": {},
   "outputs": [],
   "source": [
    "def Show_Data(items):\n",
    "    if type(items)==django.db.models.query.QuerySet:\n",
    "        for item in items:\n",
    "            print(item.id,\"|\",item.name,\"|\",item.price,\"|\",item.count)\n",
    "        return None\n",
    "    else:\n",
    "        print(items.id,\"|\",items.name,\"|\",items.price,\"|\",items.count)\n",
    "    return None"
   ]
  },
  {
   "cell_type": "code",
   "execution_count": 17,
   "id": "2213dd55",
   "metadata": {},
   "outputs": [
    {
     "name": "stdout",
     "output_type": "stream",
     "text": [
      "4 | Casio P-1 | 7600.0 | 15\n",
      "6 | G-Shock | 800.0 | 1\n",
      "8 | Titan | 8900.0 | 1\n",
      "9 | Fossil | 12900.0 | 1\n",
      "9 | Fossil | 12900.0 | 1\n"
     ]
    }
   ],
   "source": [
    "#Get all items\n",
    "items=WatchesUploads.objects.all()\n",
    "Show_Data(items)"
   ]
  },
  {
   "cell_type": "code",
   "execution_count": 22,
   "id": "79a95f1a",
   "metadata": {},
   "outputs": [
    {
     "name": "stdout",
     "output_type": "stream",
     "text": [
      "8 | Titan | 8900.0 | 1\n"
     ]
    }
   ],
   "source": [
    "#Get single item with id\n",
    "single_item=WatchesUploads.objects.get(id=8)\n",
    "Show_Data(single_item)"
   ]
  },
  {
   "cell_type": "code",
   "execution_count": 26,
   "id": "653b6b24",
   "metadata": {},
   "outputs": [
    {
     "name": "stdout",
     "output_type": "stream",
     "text": [
      "8 | Titan | 8900.0 | 3\n"
     ]
    }
   ],
   "source": [
    "#change existing value -- right way\n",
    "single_item.count=3\n",
    "single_item.save()\n",
    "Show_Data(single_item)"
   ]
  },
  {
   "cell_type": "code",
   "execution_count": 27,
   "id": "ffc10c3d",
   "metadata": {},
   "outputs": [
    {
     "name": "stdout",
     "output_type": "stream",
     "text": [
      "8 | Titan | 8900.0 | 5\n"
     ]
    }
   ],
   "source": [
    "#change existing value without save\n",
    "single_item.count=5\n",
    "Show_Data(single_item)"
   ]
  },
  {
   "cell_type": "markdown",
   "id": "da533e5c",
   "metadata": {},
   "source": [
    "# 2.Filter Items"
   ]
  },
  {
   "cell_type": "code",
   "execution_count": 28,
   "id": "5cb3471e",
   "metadata": {},
   "outputs": [
    {
     "name": "stdout",
     "output_type": "stream",
     "text": [
      "4 | Casio P-1 | 7600.0 | 15\n"
     ]
    }
   ],
   "source": [
    "#Example using name\n",
    "name=\"Cas\"\n",
    "fil_items=WatchesUploads.objects.filter(name__startswith=name)\n",
    "Show_Data(fil_items)"
   ]
  },
  {
   "cell_type": "markdown",
   "id": "44a5c8c9",
   "metadata": {},
   "source": [
    "# 3.Sort the Items"
   ]
  },
  {
   "cell_type": "code",
   "execution_count": 29,
   "id": "397883e4",
   "metadata": {},
   "outputs": [
    {
     "name": "stdout",
     "output_type": "stream",
     "text": [
      "6 | G-Shock | 800.0 | 1\n",
      "9 | Fossil | 12900.0 | 1\n",
      "8 | Titan | 8900.0 | 3\n",
      "4 | Casio P-1 | 7600.0 | 15\n"
     ]
    }
   ],
   "source": [
    "sort_objects=WatchesUploads.objects.order_by(\"count\")\n",
    "Show_Data(sort_objects)"
   ]
  },
  {
   "cell_type": "code",
   "execution_count": null,
   "id": "2bff8c9a",
   "metadata": {},
   "outputs": [],
   "source": []
  }
 ],
 "metadata": {
  "kernelspec": {
   "display_name": "Django Shell-Plus",
   "language": "python",
   "name": "django_extensions"
  },
  "language_info": {
   "codemirror_mode": {
    "name": "ipython",
    "version": 3
   },
   "file_extension": ".py",
   "mimetype": "text/x-python",
   "name": "python",
   "nbconvert_exporter": "python",
   "pygments_lexer": "ipython3",
   "version": "3.11.9"
  }
 },
 "nbformat": 4,
 "nbformat_minor": 5
}
